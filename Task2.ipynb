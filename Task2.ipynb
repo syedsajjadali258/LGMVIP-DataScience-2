{
  "nbformat": 4,
  "nbformat_minor": 0,
  "metadata": {
    "colab": {
      "provenance": []
    },
    "kernelspec": {
      "name": "python3",
      "display_name": "Python 3"
    },
    "language_info": {
      "name": "python"
    }
  },
  "cells": [
    {
      "cell_type": "markdown",
      "source": [
        "**STOCK MARKET PREDICTION AND CLASSIFICATION USING STACKED LSTM**"
      ],
      "metadata": {
        "id": "JTJe96zT4BoU"
      }
    },
    {
      "cell_type": "code",
      "source": [
        "import pandas as pd\n",
        "import numpy as np\n",
        "import matplotlib.pyplot as plt\n",
        "from sklearn.preprocessing import MinMaxScaler\n",
        "from tensorflow.keras.models import Sequential\n",
        "from tensorflow.keras.layers import Dense, LSTM\n",
        "import math\n",
        "from sklearn.metrics import mean_squared_error\n"
      ],
      "metadata": {
        "id": "qwSpS4-658N0"
      },
      "execution_count": 2,
      "outputs": []
    },
    {
      "cell_type": "code",
      "source": [
        "# Load the dataset\n",
        "df = pd.read_csv('AAPL.csv')"
      ],
      "metadata": {
        "id": "XtAKqnqY5_hD"
      },
      "execution_count": 3,
      "outputs": []
    },
    {
      "cell_type": "code",
      "source": [
        "# Preprocess the data\n",
        "df1 = df['close'].values.reshape(-1, 1)\n",
        "scaler = MinMaxScaler(feature_range=(0, 1))\n",
        "df1 = scaler.fit_transform(df1)"
      ],
      "metadata": {
        "id": "Jr-MiPcb6BOz"
      },
      "execution_count": 4,
      "outputs": []
    },
    {
      "cell_type": "code",
      "source": [
        "# Split dataset into train and test\n",
        "training_size = int(len(df1) * 0.75)\n",
        "train_data, test_data = df1[0:training_size, :], df1[training_size:len(df1), :1]"
      ],
      "metadata": {
        "id": "CxU4F2rB6Gxs"
      },
      "execution_count": 18,
      "outputs": []
    },
    {
      "cell_type": "markdown",
      "source": [
        "*Here dataset is split such that 75% is used for training the model while remaining 25% is used for testing purpose.*"
      ],
      "metadata": {
        "id": "PKEJPsUG9qoj"
      }
    },
    {
      "cell_type": "code",
      "source": [
        "# Function to convert an array of values into a dataset matrix\n",
        "def create_dataset(dataset, time_step=1):\n",
        "    dataX, dataY = [], []\n",
        "    for i in range(len(dataset) - time_step - 1):\n",
        "        a = dataset[i:(i + time_step), 0]\n",
        "        dataX.append(a)\n",
        "        dataY.append(dataset[i + time_step, 0])\n",
        "    return np.array(dataX), np.array(dataY)"
      ],
      "metadata": {
        "id": "GDOk7Yqz6JS3"
      },
      "execution_count": 6,
      "outputs": []
    },
    {
      "cell_type": "code",
      "source": [
        "# Reshape the data into X=t, t+1, t+2, t+3, and Y=t+4\n",
        "time_step = 100\n",
        "X_train, y_train = create_dataset(train_data, time_step)\n",
        "X_test, ytest = create_dataset(test_data, time_step)"
      ],
      "metadata": {
        "id": "lvnPg45v6Lbw"
      },
      "execution_count": 7,
      "outputs": []
    },
    {
      "cell_type": "code",
      "source": [
        "# Reshape input to be [samples, time steps, features] required for LSTM\n",
        "X_train = X_train.reshape(X_train.shape[0], X_train.shape[1], 1)\n",
        "X_test = X_test.reshape(X_test.shape[0], X_test.shape[1], 1)"
      ],
      "metadata": {
        "id": "udW42xGX6Os-"
      },
      "execution_count": 8,
      "outputs": []
    },
    {
      "cell_type": "code",
      "source": [
        "# Create the Stacked LSTM model\n",
        "model = Sequential()\n",
        "model.add(LSTM(50, return_sequences=True, input_shape=(100, 1)))\n",
        "model.add(LSTM(50, return_sequences=True))\n",
        "model.add(LSTM(50))\n",
        "model.add(Dense(1))\n",
        "model.compile(loss='mean_squared_error', optimizer='adam')\n"
      ],
      "metadata": {
        "id": "DRymQRX76RSW"
      },
      "execution_count": 9,
      "outputs": []
    },
    {
      "cell_type": "code",
      "source": [
        "# Train the model\n",
        "model.fit(X_train, y_train, validation_data=(X_test, ytest), epochs=10, batch_size=64, verbose=1)"
      ],
      "metadata": {
        "colab": {
          "base_uri": "https://localhost:8080/"
        },
        "id": "xXr5qHOl6T1I",
        "outputId": "b407fa28-4ca7-41be-ecb2-1b315142a364"
      },
      "execution_count": 11,
      "outputs": [
        {
          "output_type": "stream",
          "name": "stdout",
          "text": [
            "Epoch 1/10\n",
            "12/12 [==============================] - 3s 220ms/step - loss: 5.6971e-04 - val_loss: 0.0053\n",
            "Epoch 2/10\n",
            "12/12 [==============================] - 3s 220ms/step - loss: 5.8267e-04 - val_loss: 0.0044\n",
            "Epoch 3/10\n",
            "12/12 [==============================] - 4s 330ms/step - loss: 5.8335e-04 - val_loss: 0.0036\n",
            "Epoch 4/10\n",
            "12/12 [==============================] - 3s 215ms/step - loss: 5.4810e-04 - val_loss: 0.0043\n",
            "Epoch 5/10\n",
            "12/12 [==============================] - 3s 212ms/step - loss: 5.6445e-04 - val_loss: 0.0046\n",
            "Epoch 6/10\n",
            "12/12 [==============================] - 3s 217ms/step - loss: 5.3890e-04 - val_loss: 0.0033\n",
            "Epoch 7/10\n",
            "12/12 [==============================] - 3s 224ms/step - loss: 5.2705e-04 - val_loss: 0.0031\n",
            "Epoch 8/10\n",
            "12/12 [==============================] - 4s 299ms/step - loss: 5.1864e-04 - val_loss: 0.0031\n",
            "Epoch 9/10\n",
            "12/12 [==============================] - 3s 216ms/step - loss: 5.1596e-04 - val_loss: 0.0029\n",
            "Epoch 10/10\n",
            "12/12 [==============================] - 3s 213ms/step - loss: 5.3517e-04 - val_loss: 0.0028\n"
          ]
        },
        {
          "output_type": "execute_result",
          "data": {
            "text/plain": [
              "<keras.callbacks.History at 0x795adc4fef50>"
            ]
          },
          "metadata": {},
          "execution_count": 11
        }
      ]
    },
    {
      "cell_type": "code",
      "source": [
        "\n",
        "# Make predictions and transform back to the original form\n",
        "train_predict = model.predict(X_train)\n",
        "test_predict = model.predict(X_test)\n",
        "train_predict = scaler.inverse_transform(train_predict)\n",
        "test_predict = scaler.inverse_transform(test_predict)"
      ],
      "metadata": {
        "colab": {
          "base_uri": "https://localhost:8080/"
        },
        "id": "IG4Z4x9E6U9u",
        "outputId": "f9397173-fe6c-4b9d-b1be-70466da0a643"
      },
      "execution_count": 12,
      "outputs": [
        {
          "output_type": "stream",
          "name": "stdout",
          "text": [
            "23/23 [==============================] - 2s 42ms/step\n",
            "11/11 [==============================] - 0s 41ms/step\n"
          ]
        }
      ]
    },
    {
      "cell_type": "code",
      "source": [
        "# Calculate RMSE performance metrics\n",
        "train_rmse = math.sqrt(mean_squared_error(y_train, train_predict))\n",
        "test_rmse = math.sqrt(mean_squared_error(ytest, test_predict))\n",
        "print(f\"Train RMSE: {train_rmse}\")\n",
        "print(f\"Test RMSE: {test_rmse}\")"
      ],
      "metadata": {
        "colab": {
          "base_uri": "https://localhost:8080/"
        },
        "id": "_HcdrcSm6VAx",
        "outputId": "19631cb6-5d20-4555-c45e-3d82b77a5113"
      },
      "execution_count": 13,
      "outputs": [
        {
          "output_type": "stream",
          "name": "stdout",
          "text": [
            "Train RMSE: 144.99317267215943\n",
            "Test RMSE: 239.60453002324041\n"
          ]
        }
      ]
    },
    {
      "cell_type": "code",
      "source": [
        "# Shift train predictions for plotting\n",
        "look_back = 100\n",
        "trainPredictPlot = np.empty_like(df1)\n",
        "trainPredictPlot[:, :] = np.nan\n",
        "trainPredictPlot[look_back:len(train_predict) + look_back, :] = train_predict\n",
        "\n"
      ],
      "metadata": {
        "id": "y-ymmAkz6VMq"
      },
      "execution_count": 20,
      "outputs": []
    },
    {
      "cell_type": "code",
      "source": [
        "# Shift test predictions for plotting\n",
        "testPredictPlot = np.empty_like(df1)\n",
        "testPredictPlot[:, :] = np.nan\n",
        "testPredictPlot[len(train_predict) + (look_back * 2) + 1:len(df1) - 1, :] = test_predict\n",
        "\n"
      ],
      "metadata": {
        "id": "Mq9oKnNO6VP4"
      },
      "execution_count": 16,
      "outputs": []
    },
    {
      "cell_type": "code",
      "source": [
        "# Plot baseline and predictions\n",
        "plt.plot(scaler.inverse_transform(df1))\n",
        "plt.plot(trainPredictPlot)\n",
        "plt.plot(testPredictPlot)\n",
        "plt.show()"
      ],
      "metadata": {
        "colab": {
          "base_uri": "https://localhost:8080/",
          "height": 430
        },
        "id": "WR1ELl1g6uEJ",
        "outputId": "e35d527f-3ce8-4c17-a7fe-255b678b05dd"
      },
      "execution_count": 17,
      "outputs": [
        {
          "output_type": "display_data",
          "data": {
            "text/plain": [
              "<Figure size 640x480 with 1 Axes>"
            ],
            "image/png": "[encoded data removed]"
          },
          "metadata": {}
        }
      ]
    }
  ]
}